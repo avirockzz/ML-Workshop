{
 "cells": [
  {
   "cell_type": "markdown",
   "metadata": {},
   "source": [
    "- WAP to print given num is divisible by 5 and not divisible by 3\n",
    "```\n",
    "   i/p: 10\n",
    "   o/p: Divisible by 5 and Not divisible by 3\n",
    "\n",
    "```\n",
    "- WAP to print given books are equally distributed or not\n",
    "\n",
    "```\n",
    "i/p: Books:  12             i/p:Books:13\n",
    "     Friends: 3                 Friends: 4\n",
    "o/p: Equally Distributed   o/p:Not equally                                        distributed..3                                    needed\n",
    " ```\n",
    "- WAP to print biggest number in given 4 numbers.\n",
    "- WAP to print in range of 1 to 20,then given num is divisible by 3 then print Fizz,the num is divisible by 5 then print Buzz,the num is divisible by 3 and 5 it will print FizzBuzz.\n",
    "\n",
    "``` \n",
    "i/p: 1 2 3     4   5     6     7  8  9\n",
    "o/p: 1 2 Fizz  4   Buzz  Fizz  7  8  Fizz ....\n",
    "\n",
    "```\n",
    "- WAP to print vowels count,consonants count,special char count and digit count to the given string.\n",
    "\n",
    "- WAP to print given number digits count.\n",
    "```\n",
    "i/p: 2345\n",
    "o/p: Digits Count:4\n",
    "\n",
    "```\n",
    "\n",
    "- WAP to check given number is palindrome or not\n",
    "```\n",
    "i/p: 121\n",
    "o/p: Palindrome Number\n",
    "\n",
    "```\n"
   ]
  },
  {
   "cell_type": "code",
   "execution_count": 3,
   "metadata": {},
   "outputs": [
    {
     "name": "stdout",
     "output_type": "stream",
     "text": [
      "enter the num15\n"
     ]
    }
   ],
   "source": [
    "n=int(input(\"enter the num\"))\n",
    "if n%5==0 and n%3!=0:\n",
    "    print('the num i divisible by 5 and not by 3')\n"
   ]
  },
  {
   "cell_type": "code",
   "execution_count": 4,
   "metadata": {},
   "outputs": [
    {
     "name": "stdout",
     "output_type": "stream",
     "text": [
      "4\n",
      "5\n",
      "not equally distributed 3 needed\n"
     ]
    }
   ],
   "source": [
    "f=int(input())\n",
    "b=int(input())\n",
    "if b%f==0:\n",
    "    print('equally distributed')\n",
    "else:\n",
    "    print('not equally distributed',f-b%f,'needed')"
   ]
  },
  {
   "cell_type": "code",
   "execution_count": 7,
   "metadata": {},
   "outputs": [
    {
     "name": "stdout",
     "output_type": "stream",
     "text": [
      "-34\n",
      "23\n",
      "-5675\n",
      "76\n",
      "76 biggest\n"
     ]
    }
   ],
   "source": [
    "a=int(input())\n",
    "b=int(input())\n",
    "c=int(input())\n",
    "d=int(input())\n",
    "if a>b and a>c and a>d:\n",
    "    print(a,\"Biggest\")\n",
    "elif b>c and b>d:\n",
    "    print(b,\"Biggest\")\n",
    "elif c>d:\n",
    "    print(c,\"Biggest\")\n",
    "else:\n",
    "    print(d,\"biggest\")"
   ]
  },
  {
   "cell_type": "code",
   "execution_count": 8,
   "metadata": {
    "collapsed": true
   },
   "outputs": [
    {
     "name": "stdout",
     "output_type": "stream",
     "text": [
      "1\n",
      "2\n",
      "Fizz\n",
      "4\n",
      "Buzz\n",
      "Fizz\n",
      "7\n",
      "8\n",
      "Fizz\n",
      "Buzz\n",
      "11\n",
      "Fizz\n",
      "13\n",
      "14\n",
      "FizzBuzz\n",
      "16\n",
      "17\n",
      "Fizz\n",
      "19\n",
      "Buzz\n",
      "Fizz\n",
      "22\n",
      "23\n",
      "Fizz\n",
      "Buzz\n",
      "26\n",
      "Fizz\n",
      "28\n",
      "29\n",
      "FizzBuzz\n"
     ]
    }
   ],
   "source": [
    "for i in range(1,31):\n",
    "    if i%5==0 and i%3==0:\n",
    "        print(\"FizzBuzz\")\n",
    "    elif i%5==0:\n",
    "        print(\"Buzz\")\n",
    "    elif i%3==0:\n",
    "        print('Fizz')\n",
    "    else:\n",
    "        print(i)"
   ]
  },
  {
   "cell_type": "code",
   "execution_count": 10,
   "metadata": {},
   "outputs": [
    {
     "name": "stdout",
     "output_type": "stream",
     "text": [
      "Enter a string: gist123\n",
      "No of Vowels are:  1\n",
      "No of Consonants are : 6\n"
     ]
    }
   ],
   "source": [
    "s = input(\"Enter a string: \")\n",
    "v,c = 0,0\n",
    "for i in s:\n",
    "    if i in 'aeiouAEIOU':\n",
    "        v += 1\n",
    "print(\"No of Vowels are: \",v)\n",
    "print(\"No of Consonants are :\",len(s)-v)"
   ]
  },
  {
   "cell_type": "markdown",
   "metadata": {},
   "source": [
    "- only works if the given string contains only alphabets without any spaces or digits or special characters."
   ]
  },
  {
   "cell_type": "code",
   "execution_count": 12,
   "metadata": {},
   "outputs": [
    {
     "name": "stdout",
     "output_type": "stream",
     "text": [
      "Enter a string: gist@123 mi$$ion\n",
      "4 5 3 1 3\n"
     ]
    }
   ],
   "source": [
    "p = input(\"Enter a string: \")\n",
    "v=c=sp=s=d=0\n",
    "for i in p:\n",
    "    if i.isalpha():\n",
    "        if i in 'aeiouAEIOU':\n",
    "            v += 1\n",
    "        else:\n",
    "            c += 1\n",
    "    elif i.isdigit():\n",
    "        d += 1\n",
    "    elif i.isspace():\n",
    "        s += 1\n",
    "    else:\n",
    "        sp += 1\n",
    "print(v,c,d,s,sp)"
   ]
  },
  {
   "cell_type": "code",
   "execution_count": 13,
   "metadata": {},
   "outputs": [
    {
     "name": "stdout",
     "output_type": "stream",
     "text": [
      "Enter a number: 2022\n",
      "4\n"
     ]
    }
   ],
   "source": [
    "num = int(input(\"Enter a number: \"))\n",
    "dc = 0\n",
    "while num>0:\n",
    "    digit = num%10\n",
    "    dc += 1\n",
    "    num//=10\n",
    "print(dc)"
   ]
  },
  {
   "cell_type": "code",
   "execution_count": 14,
   "metadata": {},
   "outputs": [
    {
     "name": "stdout",
     "output_type": "stream",
     "text": [
      "121\n",
      "Palindrome\n"
     ]
    }
   ],
   "source": [
    "n=int(input())\n",
    "temp=n\n",
    "rev=0\n",
    "while n!=0:\n",
    "    r=n%10\n",
    "    rev=rev*10+r\n",
    "    n=n//10\n",
    "if rev==temp:\n",
    "    print('Palindrome')\n",
    "else:\n",
    "    print('Not a Palindrome')"
   ]
  },
  {
   "cell_type": "markdown",
   "metadata": {},
   "source": [
    "```\n",
    "i/p:Enter a String: Python\n",
    "\n",
    "o/p: Even Ascii Chars: p t h n\n",
    "\n",
    "\n",
    "i/p:Enter a String: aba\n",
    "\n",
    "o/p:Char Ascii Sum: 292  -->97+98+97\n",
    "\n",
    "```"
   ]
  },
  {
   "cell_type": "code",
   "execution_count": 7,
   "metadata": {},
   "outputs": [
    {
     "data": {
      "text/plain": [
       "97"
      ]
     },
     "execution_count": 7,
     "metadata": {},
     "output_type": "execute_result"
    }
   ],
   "source": [
    "ord('a')"
   ]
  },
  {
   "cell_type": "code",
   "execution_count": 12,
   "metadata": {
    "collapsed": true
   },
   "outputs": [
    {
     "name": "stdout",
     "output_type": "stream",
     "text": [
      "Enter a String:Python\n",
      "P 80\n",
      "t 116\n",
      "h 104\n",
      "n 110\n"
     ]
    }
   ],
   "source": [
    "s=input('Enter a String:')\n",
    "for ch in s:\n",
    "    if ord(ch)%2==0:\n",
    "        print(ch,ord(ch))\n",
    "    "
   ]
  },
  {
   "cell_type": "code",
   "execution_count": 11,
   "metadata": {
    "collapsed": true
   },
   "outputs": [
    {
     "name": "stdout",
     "output_type": "stream",
     "text": [
      "Enter a String:Steve Jobs\n",
      "949\n"
     ]
    }
   ],
   "source": [
    "a=input('Enter a String:')\n",
    "s=0\n",
    "for ch in a:\n",
    "    s+=ord(ch)\n",
    "print(s)"
   ]
  },
  {
   "cell_type": "markdown",
   "metadata": {},
   "source": [
    "```\n",
    "i/p: [2,3,4,5,3,4,7]\n",
    "\n",
    "o/p: Unique Elements:[2,5,7]\n",
    "```\n"
   ]
  },
  {
   "cell_type": "code",
   "execution_count": 13,
   "metadata": {},
   "outputs": [
    {
     "name": "stdout",
     "output_type": "stream",
     "text": [
      "[2, 5, 7]\n"
     ]
    }
   ],
   "source": [
    "li = [2,3,4,5,3,4,7]\n",
    "unique = []\n",
    "for i in li:\n",
    "    if li.count(i)==1:\n",
    "        unique.append(i)\n",
    "print(unique)"
   ]
  },
  {
   "cell_type": "code",
   "execution_count": 14,
   "metadata": {},
   "outputs": [
    {
     "name": "stdout",
     "output_type": "stream",
     "text": [
      "[3, 4]\n"
     ]
    }
   ],
   "source": [
    "d = []\n",
    "for i in li:\n",
    "    if li.count(i)>1 and i not in d:\n",
    "        d.append(i)\n",
    "print(d)"
   ]
  },
  {
   "cell_type": "code",
   "execution_count": 15,
   "metadata": {},
   "outputs": [
    {
     "name": "stdout",
     "output_type": "stream",
     "text": [
      "[2, 3, 4, 5, 7]\n"
     ]
    }
   ],
   "source": [
    "l = []\n",
    "for i in li:\n",
    "    if i not in l:\n",
    "        l.append(i)\n",
    "print(l)"
   ]
  },
  {
   "cell_type": "markdown",
   "metadata": {},
   "source": [
    "- WAP to create a dictionary from a given string where key is alphabet and its ascii value is value.\n",
    "```\n",
    "i/p: yaswanth\n",
    "o/p: {'y':121,'a':97,'s':115,....}\n",
    "```\n",
    "\n",
    "- WAP to create a dictionary like below for a given range.\n",
    "```\n",
    "o/p: {1:1,2:4,3:9,4:16.....}\n",
    "```"
   ]
  },
  {
   "cell_type": "code",
   "execution_count": 17,
   "metadata": {},
   "outputs": [
    {
     "data": {
      "text/plain": [
       "115"
      ]
     },
     "execution_count": 17,
     "metadata": {},
     "output_type": "execute_result"
    }
   ],
   "source": [
    "ord('s')"
   ]
  },
  {
   "cell_type": "code",
   "execution_count": 18,
   "metadata": {},
   "outputs": [
    {
     "name": "stdout",
     "output_type": "stream",
     "text": [
      "Suma\n",
      "{'S': 83, 'u': 117, 'm': 109, 'a': 97}\n"
     ]
    }
   ],
   "source": [
    "s=input()\n",
    "d={}\n",
    "for ch in s:\n",
    "    d[ch]=ord(ch)\n",
    "print(d)"
   ]
  },
  {
   "cell_type": "code",
   "execution_count": 22,
   "metadata": {},
   "outputs": [
    {
     "data": {
      "text/plain": [
       "{'a': 97, 'b': 98, 'h': 104, 'i': 105}"
      ]
     },
     "execution_count": 22,
     "metadata": {},
     "output_type": "execute_result"
    }
   ],
   "source": [
    "d1={ch:ord(ch) for ch in 'abhi'}\n",
    "d1"
   ]
  },
  {
   "cell_type": "code",
   "execution_count": 24,
   "metadata": {},
   "outputs": [
    {
     "name": "stdout",
     "output_type": "stream",
     "text": [
      "{1: 1, 2: 4, 3: 9, 4: 16, 5: 25, 6: 36, 7: 49, 8: 64, 9: 81}\n"
     ]
    }
   ],
   "source": [
    "d2={}\n",
    "for i in range(1,10):\n",
    "    d2[i]=i*i\n",
    "\n",
    "print(d2)"
   ]
  },
  {
   "cell_type": "code",
   "execution_count": 26,
   "metadata": {},
   "outputs": [
    {
     "data": {
      "text/plain": [
       "{1: 1, 2: 4, 3: 9, 4: 16, 5: 25, 6: 36, 7: 49, 8: 64, 9: 81}"
      ]
     },
     "execution_count": 26,
     "metadata": {},
     "output_type": "execute_result"
    }
   ],
   "source": [
    "d2={i:i*i for i in range(1,10)}\n",
    "d2"
   ]
  },
  {
   "cell_type": "code",
   "execution_count": 27,
   "metadata": {},
   "outputs": [
    {
     "name": "stdout",
     "output_type": "stream",
     "text": [
      "{'every': 5, 'should': 6, 'program': 7, 'computer': 8}\n"
     ]
    }
   ],
   "source": [
    "li=['every','should','program','computer']\n",
    "d3={}\n",
    "for i in li:\n",
    "    d3[i]=len(i)\n",
    "print(d3)"
   ]
  },
  {
   "cell_type": "code",
   "execution_count": 28,
   "metadata": {},
   "outputs": [
    {
     "data": {
      "text/plain": [
       "{'every': 5, 'should': 6, 'program': 7, 'computer': 8}"
      ]
     },
     "execution_count": 28,
     "metadata": {},
     "output_type": "execute_result"
    }
   ],
   "source": [
    "{i:len(i) for i in li}"
   ]
  },
  {
   "cell_type": "code",
   "execution_count": null,
   "metadata": {},
   "outputs": [],
   "source": []
  }
 ],
 "metadata": {
  "kernelspec": {
   "display_name": "Python 3",
   "language": "python",
   "name": "python3"
  },
  "language_info": {
   "codemirror_mode": {
    "name": "ipython",
    "version": 3
   },
   "file_extension": ".py",
   "mimetype": "text/x-python",
   "name": "python",
   "nbconvert_exporter": "python",
   "pygments_lexer": "ipython3",
   "version": "3.7.1"
  }
 },
 "nbformat": 4,
 "nbformat_minor": 2
}
